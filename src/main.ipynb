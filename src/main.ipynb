{
 "cells": [
  {
   "cell_type": "code",
   "id": "initial_id",
   "metadata": {
    "collapsed": true,
    "ExecuteTime": {
     "end_time": "2025-10-28T13:48:38.869350Z",
     "start_time": "2025-10-28T13:48:37.524380Z"
    }
   },
   "source": [
    "import numpy as np\n",
    "import cv2\n",
    "from tqdm import tqdm\n",
    "from tkinter import Tk, filedialog"
   ],
   "outputs": [],
   "execution_count": 1
  },
  {
   "metadata": {
    "ExecuteTime": {
     "end_time": "2025-10-28T13:49:51.671199Z",
     "start_time": "2025-10-28T13:48:46.338228Z"
    }
   },
   "cell_type": "code",
   "source": [
    "import numpy as np\n",
    "import cv2\n",
    "from tqdm import tqdm\n",
    "from tkinter import Tk, filedialog\n",
    "\n",
    "ESCAPE_KEY_ASCII = 27\n",
    "\n",
    "def onChange(value):\n",
    "    pass\n",
    "\n",
    "def process_image(img_bgr, contrast_value, brightness_value, use_clahe):\n",
    "    img_float = img_bgr.astype(np.float32)\n",
    "    contraste = contrast_value / 100.0\n",
    "    ajustada = contraste * (img_float - 128) + 128 + brightness_value\n",
    "    ajustada = np.clip(ajustada, 0, 255).astype(np.uint8)\n",
    "\n",
    "    if not use_clahe:\n",
    "        return ajustada\n",
    "\n",
    "    lab = cv2.cvtColor(ajustada, cv2.COLOR_BGR2LAB)\n",
    "    l, a, b = cv2.split(lab)\n",
    "    clahe = cv2.createCLAHE(clipLimit=2.0, tileGridSize=(8, 8))\n",
    "    l_clahe = clahe.apply(l)\n",
    "    lab_clahe = cv2.merge((l_clahe, a, b))\n",
    "    return cv2.cvtColor(lab_clahe, cv2.COLOR_LAB2BGR)\n",
    "\n",
    "def resize_keep_aspect(img, scale):\n",
    "    \"\"\"Redimensiona mantendo a proporção\"\"\"\n",
    "    h, w = img.shape[:2]\n",
    "    new_w = int(w * scale)\n",
    "    new_h = int(h * scale)\n",
    "    return cv2.resize(img, (new_w, new_h), interpolation=cv2.INTER_LINEAR)\n",
    "\n",
    "def show_centered(windowTitle, img, copyimg, apply_clahe, zoom_scale):\n",
    "    \"\"\"\n",
    "    Mostra a imagem original e a processada, lado a lado,\n",
    "    centralizadas em uma janela com fundo cinza.\n",
    "    \"\"\"\n",
    "    # aplica zoom\n",
    "    img_zoom = resize_keep_aspect(img, zoom_scale)\n",
    "    copyimg_zoom = resize_keep_aspect(copyimg, zoom_scale)\n",
    "\n",
    "    combined = np.hstack((img_zoom, copyimg_zoom))\n",
    "\n",
    "    # Tamanho da tela\n",
    "    screen_res = 1920, 1080\n",
    "    try:\n",
    "        import tkinter as tk\n",
    "        root = tk.Tk()\n",
    "        screen_res = root.winfo_screenwidth(), root.winfo_screenheight()\n",
    "        root.destroy()\n",
    "    except:\n",
    "        pass\n",
    "\n",
    "    win_w, win_h = screen_res\n",
    "\n",
    "    # Fundo cinza (com altura extra p/ trackbars)\n",
    "    canvas_h = max(combined.shape[0], win_h - 100)\n",
    "    canvas_w = max(combined.shape[1], win_w)\n",
    "    canvas = np.full((canvas_h, canvas_w, 3), 200, dtype=np.uint8)  # fundo cinza\n",
    "\n",
    "    # Calcula posição central\n",
    "    y_off = (canvas_h - combined.shape[0]) // 2\n",
    "    x_off = (canvas_w - combined.shape[1]) // 2\n",
    "\n",
    "    # Cola a imagem no centro\n",
    "    canvas[y_off:y_off+combined.shape[0], x_off:x_off+combined.shape[1]] = combined\n",
    "\n",
    "    # === textos ===\n",
    "    font = cv2.FONT_HERSHEY_SIMPLEX\n",
    "    font_scale = 1.2\n",
    "    thickness = 2\n",
    "    color = (255, 255, 255)\n",
    "    shadow_color = (50, 50, 50)\n",
    "    y_pos = y_off + 40  # ajustado pela margem\n",
    "\n",
    "    cv2.putText(canvas, \"ANTES\", (x_off + 30, y_pos), font, font_scale, shadow_color, thickness + 2, cv2.LINE_AA)\n",
    "    cv2.putText(canvas, \"ANTES\", (x_off + 30, y_pos), font, font_scale, color, thickness, cv2.LINE_AA)\n",
    "    cv2.putText(canvas, \"DEPOIS\", (x_off + img_zoom.shape[1] + 30, y_pos), font, font_scale, shadow_color, thickness + 2, cv2.LINE_AA)\n",
    "    cv2.putText(canvas, \"DEPOIS\", (x_off + img_zoom.shape[1] + 30, y_pos), font, font_scale, color, thickness, cv2.LINE_AA)\n",
    "\n",
    "    # Status CLAHE + Zoom\n",
    "    clahe_status = f\"CLAHE: {'ON' if apply_clahe else 'OFF'} | Zoom: {int(zoom_scale*100)}%\"\n",
    "    text_size, _ = cv2.getTextSize(clahe_status, font, font_scale, thickness)\n",
    "    text_x = canvas.shape[1] - text_size[0] - 20\n",
    "    text_y = canvas.shape[0] - 20\n",
    "    cv2.putText(canvas, clahe_status, (text_x, text_y), font, font_scale, shadow_color, thickness + 2, cv2.LINE_AA)\n",
    "    cv2.putText(canvas, clahe_status, (text_x, text_y), font, font_scale, color, thickness, cv2.LINE_AA)\n",
    "\n",
    "    cv2.imshow(windowTitle, canvas)\n",
    "\n",
    "# === Selecionar a Imagem ===\n",
    "Tk().withdraw()\n",
    "file_path = filedialog.askopenfilename(\n",
    "    title=\"Selecione uma imagem\",\n",
    "    filetypes=[(\"Imagens\", \"*.jpg;*.jpeg;*.png;*.bmp;*.tiff\")]\n",
    ")\n",
    "\n",
    "if not file_path:\n",
    "    print(\"Nenhuma imagem selecionada. Encerrando...\")\n",
    "    exit()\n",
    "\n",
    "img = cv2.imread(file_path)\n",
    "if img is None:\n",
    "    print(\"Erro ao carregar a imagem. Encerrando...\")\n",
    "    exit()\n",
    "\n",
    "copyimg = img.copy()\n",
    "\n",
    "# === Criar janela principal ===\n",
    "windowTitle = \"Ajuste de Brilho e Contraste (Antes e Depois)\"\n",
    "cv2.namedWindow(windowTitle, cv2.WINDOW_NORMAL)\n",
    "\n",
    "# Trackbars\n",
    "cv2.createTrackbar(\"Contraste\", windowTitle, 100, 200, onChange)\n",
    "cv2.createTrackbar(\"Brilho\", windowTitle, 0, 200, onChange)\n",
    "\n",
    "prev_contrast = cv2.getTrackbarPos(\"Contraste\", windowTitle)\n",
    "prev_brightness = cv2.getTrackbarPos(\"Brilho\", windowTitle)\n",
    "apply_clahe = True\n",
    "force_update = True\n",
    "\n",
    "# zoom inicial\n",
    "zoom_scale = 1.2\n",
    "\n",
    "while True:\n",
    "    current_contrast = cv2.getTrackbarPos(\"Contraste\", windowTitle)\n",
    "    current_brightness = cv2.getTrackbarPos(\"Brilho\", windowTitle)\n",
    "\n",
    "    changed = (current_contrast != prev_contrast) or (current_brightness != prev_brightness)\n",
    "\n",
    "    if changed or force_update:\n",
    "        for _ in tqdm(range(1), desc=\"Aplicando ajustes\", unit=\"passo\"):\n",
    "            copyimg = process_image(img, current_contrast, current_brightness, apply_clahe)\n",
    "\n",
    "        prev_contrast = current_contrast\n",
    "        prev_brightness = current_brightness\n",
    "        force_update = False\n",
    "\n",
    "    show_centered(windowTitle, img, copyimg, apply_clahe, zoom_scale)\n",
    "\n",
    "    key = cv2.waitKey(1) & 0xFF\n",
    "    if key == ESCAPE_KEY_ASCII:\n",
    "        break\n",
    "    elif key == ord('c'):\n",
    "        apply_clahe = not apply_clahe\n",
    "        force_update = True\n",
    "        print(f\"CLAHE {'ativado' if apply_clahe else 'desativado'}.\")\n",
    "    elif key == ord('r'):\n",
    "        cv2.setTrackbarPos(\"Contraste\", windowTitle, 100)\n",
    "        cv2.setTrackbarPos(\"Brilho\", windowTitle, 0)\n",
    "        prev_contrast = 100\n",
    "        prev_brightness = 0\n",
    "        force_update = True\n",
    "        print(\"🔄 Brilho e contraste resetados para os valores padrão.\")\n",
    "    elif key == ord('+') or key == ord('='):  # zoom in\n",
    "        zoom_scale = min(3.0, zoom_scale + 0.1)  # até 300%\n",
    "        force_update = True\n",
    "        print(f\"🔍 Zoom: {int(zoom_scale*100)}%\")\n",
    "    elif key == ord('-') or key == ord('_'):  # zoom out\n",
    "        zoom_scale = max(0.5, zoom_scale - 0.1)  # mínimo 50%\n",
    "        force_update = True\n",
    "        print(f\"🔍 Zoom: {int(zoom_scale*100)}%\")\n",
    "\n",
    "cv2.destroyAllWindows()\n",
    "\n",
    "# === Salvar ===\n",
    "Tk().withdraw()\n",
    "save_path = filedialog.asksaveasfilename(\n",
    "    defaultextension=\".jpg\",\n",
    "    filetypes=[(\"JPEG\", \"*.jpg\"), (\"PNG\", \"*.png\"), (\"BMP\", \"*.bmp\"), (\"TIFF\", \"*.tiff\")],\n",
    "    title=\"Salvar imagem editada como...\"\n",
    ")\n",
    "\n",
    "if save_path:\n",
    "    cv2.imwrite(save_path, copyimg)\n",
    "    print(f\"✅ Imagem salva em: {save_path}\")\n",
    "else:\n",
    "    print(\"❌ Imagem não salva.\")"
   ],
   "id": "138bad69799d2716",
   "outputs": [
    {
     "name": "stderr",
     "output_type": "stream",
     "text": [
      "Aplicando ajustes: 100%|██████████| 1/1 [00:00<00:00,  4.76passo/s]\n"
     ]
    },
    {
     "name": "stdout",
     "output_type": "stream",
     "text": [
      "🔍 Zoom: 130%\n"
     ]
    },
    {
     "name": "stderr",
     "output_type": "stream",
     "text": [
      "Aplicando ajustes: 100%|██████████| 1/1 [00:00<00:00, 58.77passo/s]\n"
     ]
    },
    {
     "name": "stdout",
     "output_type": "stream",
     "text": [
      "🔍 Zoom: 140%\n"
     ]
    },
    {
     "name": "stderr",
     "output_type": "stream",
     "text": [
      "Aplicando ajustes: 100%|██████████| 1/1 [00:00<00:00, 76.91passo/s]\n"
     ]
    },
    {
     "name": "stdout",
     "output_type": "stream",
     "text": [
      "🔍 Zoom: 130%\n"
     ]
    },
    {
     "name": "stderr",
     "output_type": "stream",
     "text": [
      "Aplicando ajustes: 100%|██████████| 1/1 [00:00<00:00, 76.88passo/s]\n"
     ]
    },
    {
     "name": "stdout",
     "output_type": "stream",
     "text": [
      "🔍 Zoom: 120%\n"
     ]
    },
    {
     "name": "stderr",
     "output_type": "stream",
     "text": [
      "Aplicando ajustes: 100%|██████████| 1/1 [00:00<00:00, 83.35passo/s]\n"
     ]
    },
    {
     "name": "stdout",
     "output_type": "stream",
     "text": [
      "🔍 Zoom: 109%\n"
     ]
    },
    {
     "name": "stderr",
     "output_type": "stream",
     "text": [
      "Aplicando ajustes: 100%|██████████| 1/1 [00:00<00:00, 90.87passo/s]\n"
     ]
    },
    {
     "name": "stdout",
     "output_type": "stream",
     "text": [
      "🔍 Zoom: 120%\n"
     ]
    },
    {
     "name": "stderr",
     "output_type": "stream",
     "text": [
      "Aplicando ajustes: 100%|██████████| 1/1 [00:00<00:00, 90.93passo/s]\n"
     ]
    },
    {
     "name": "stdout",
     "output_type": "stream",
     "text": [
      "🔍 Zoom: 130%\n"
     ]
    },
    {
     "name": "stderr",
     "output_type": "stream",
     "text": [
      "Aplicando ajustes: 100%|██████████| 1/1 [00:00<00:00, 90.83passo/s]\n"
     ]
    },
    {
     "name": "stdout",
     "output_type": "stream",
     "text": [
      "🔍 Zoom: 120%\n"
     ]
    },
    {
     "name": "stderr",
     "output_type": "stream",
     "text": [
      "Aplicando ajustes: 100%|██████████| 1/1 [00:00<00:00, 100.37passo/s]\n"
     ]
    },
    {
     "name": "stdout",
     "output_type": "stream",
     "text": [
      "🔍 Zoom: 109%\n"
     ]
    },
    {
     "name": "stderr",
     "output_type": "stream",
     "text": [
      "Aplicando ajustes: 100%|██████████| 1/1 [00:00<00:00, 76.86passo/s]\n"
     ]
    },
    {
     "name": "stdout",
     "output_type": "stream",
     "text": [
      "🔍 Zoom: 120%\n"
     ]
    },
    {
     "name": "stderr",
     "output_type": "stream",
     "text": [
      "Aplicando ajustes: 100%|██████████| 1/1 [00:00<00:00, 68.91passo/s]"
     ]
    },
    {
     "name": "stdout",
     "output_type": "stream",
     "text": [
      "🔍 Zoom: 130%"
     ]
    },
    {
     "name": "stderr",
     "output_type": "stream",
     "text": [
      "\n"
     ]
    },
    {
     "name": "stdout",
     "output_type": "stream",
     "text": [
      "\n"
     ]
    },
    {
     "name": "stderr",
     "output_type": "stream",
     "text": [
      "Aplicando ajustes: 100%|██████████| 1/1 [00:00<00:00, 90.86passo/s]\n"
     ]
    },
    {
     "name": "stdout",
     "output_type": "stream",
     "text": [
      "🔍 Zoom: 140%\n"
     ]
    },
    {
     "name": "stderr",
     "output_type": "stream",
     "text": [
      "Aplicando ajustes: 100%|██████████| 1/1 [00:00<00:00, 91.16passo/s]\n"
     ]
    },
    {
     "name": "stdout",
     "output_type": "stream",
     "text": [
      "🔍 Zoom: 150%\n"
     ]
    },
    {
     "name": "stderr",
     "output_type": "stream",
     "text": [
      "Aplicando ajustes: 100%|██████████| 1/1 [00:00<00:00, 83.26passo/s]\n"
     ]
    },
    {
     "name": "stdout",
     "output_type": "stream",
     "text": [
      "🔍 Zoom: 160%\n"
     ]
    },
    {
     "name": "stderr",
     "output_type": "stream",
     "text": [
      "Aplicando ajustes: 100%|██████████| 1/1 [00:00<00:00, 100.06passo/s]\n"
     ]
    },
    {
     "name": "stdout",
     "output_type": "stream",
     "text": [
      "🔍 Zoom: 170%\n"
     ]
    },
    {
     "name": "stderr",
     "output_type": "stream",
     "text": [
      "Aplicando ajustes: 100%|██████████| 1/1 [00:00<00:00, 96.97passo/s]\n"
     ]
    },
    {
     "name": "stdout",
     "output_type": "stream",
     "text": [
      "🔍 Zoom: 180%\n"
     ]
    },
    {
     "name": "stderr",
     "output_type": "stream",
     "text": [
      "Aplicando ajustes: 100%|██████████| 1/1 [00:00<00:00, 99.92passo/s]\n"
     ]
    },
    {
     "name": "stdout",
     "output_type": "stream",
     "text": [
      "🔍 Zoom: 190%\n"
     ]
    },
    {
     "name": "stderr",
     "output_type": "stream",
     "text": [
      "Aplicando ajustes: 100%|██████████| 1/1 [00:00<00:00, 94.82passo/s]\n"
     ]
    },
    {
     "name": "stdout",
     "output_type": "stream",
     "text": [
      "🔍 Zoom: 180%\n"
     ]
    },
    {
     "name": "stderr",
     "output_type": "stream",
     "text": [
      "Aplicando ajustes: 100%|██████████| 1/1 [00:00<00:00, 71.34passo/s]\n"
     ]
    },
    {
     "name": "stdout",
     "output_type": "stream",
     "text": [
      "🔍 Zoom: 170%\n"
     ]
    },
    {
     "name": "stderr",
     "output_type": "stream",
     "text": [
      "Aplicando ajustes: 100%|██████████| 1/1 [00:00<00:00, 83.29passo/s]\n"
     ]
    },
    {
     "name": "stdout",
     "output_type": "stream",
     "text": [
      "🔍 Zoom: 160%\n"
     ]
    },
    {
     "name": "stderr",
     "output_type": "stream",
     "text": [
      "Aplicando ajustes: 100%|██████████| 1/1 [00:00<00:00, 83.28passo/s]\n"
     ]
    },
    {
     "name": "stdout",
     "output_type": "stream",
     "text": [
      "🔍 Zoom: 150%\n"
     ]
    },
    {
     "name": "stderr",
     "output_type": "stream",
     "text": [
      "Aplicando ajustes: 100%|██████████| 1/1 [00:00<00:00, 100.01passo/s]\n"
     ]
    },
    {
     "name": "stdout",
     "output_type": "stream",
     "text": [
      "🔍 Zoom: 140%\n"
     ]
    },
    {
     "name": "stderr",
     "output_type": "stream",
     "text": [
      "Aplicando ajustes: 100%|██████████| 1/1 [00:00<00:00, 90.91passo/s]\n"
     ]
    },
    {
     "name": "stdout",
     "output_type": "stream",
     "text": [
      "🔍 Zoom: 130%\n"
     ]
    },
    {
     "name": "stderr",
     "output_type": "stream",
     "text": [
      "Aplicando ajustes: 100%|██████████| 1/1 [00:00<00:00, 99.90passo/s]\n"
     ]
    },
    {
     "name": "stdout",
     "output_type": "stream",
     "text": [
      "🔍 Zoom: 120%\n"
     ]
    },
    {
     "name": "stderr",
     "output_type": "stream",
     "text": [
      "Aplicando ajustes: 100%|██████████| 1/1 [00:00<00:00, 100.05passo/s]\n",
      "Aplicando ajustes: 100%|██████████| 1/1 [00:00<00:00, 100.00passo/s]\n",
      "Aplicando ajustes: 100%|██████████| 1/1 [00:00<00:00, 99.96passo/s]\n",
      "Aplicando ajustes: 100%|██████████| 1/1 [00:00<00:00, 83.26passo/s]\n",
      "Aplicando ajustes: 100%|██████████| 1/1 [00:00<00:00, 90.98passo/s]\n",
      "Aplicando ajustes: 100%|██████████| 1/1 [00:00<00:00, 64.38passo/s]\n",
      "Aplicando ajustes: 100%|██████████| 1/1 [00:00<00:00, 100.01passo/s]\n",
      "Aplicando ajustes: 100%|██████████| 1/1 [00:00<00:00, 90.94passo/s]\n",
      "Aplicando ajustes: 100%|██████████| 1/1 [00:00<00:00, 90.67passo/s]\n",
      "Aplicando ajustes: 100%|██████████| 1/1 [00:00<00:00, 86.73passo/s]\n",
      "Aplicando ajustes: 100%|██████████| 1/1 [00:00<00:00, 83.30passo/s]\n",
      "Aplicando ajustes: 100%|██████████| 1/1 [00:00<00:00, 90.90passo/s]\n",
      "Aplicando ajustes: 100%|██████████| 1/1 [00:00<00:00, 85.99passo/s]\n",
      "Aplicando ajustes: 100%|██████████| 1/1 [00:00<00:00, 90.85passo/s]\n",
      "Aplicando ajustes: 100%|██████████| 1/1 [00:00<00:00, 90.82passo/s]\n",
      "Aplicando ajustes: 100%|██████████| 1/1 [00:00<00:00, 83.29passo/s]\n",
      "Aplicando ajustes: 100%|██████████| 1/1 [00:00<00:00, 100.02passo/s]\n",
      "Aplicando ajustes: 100%|██████████| 1/1 [00:00<00:00, 90.83passo/s]\n",
      "Aplicando ajustes: 100%|██████████| 1/1 [00:00<00:00, 83.32passo/s]\n",
      "Aplicando ajustes: 100%|██████████| 1/1 [00:00<00:00, 90.80passo/s]\n",
      "Aplicando ajustes: 100%|██████████| 1/1 [00:00<00:00, 76.84passo/s]\n",
      "Aplicando ajustes: 100%|██████████| 1/1 [00:00<00:00, 90.93passo/s]\n",
      "Aplicando ajustes: 100%|██████████| 1/1 [00:00<00:00, 71.44passo/s]\n",
      "Aplicando ajustes: 100%|██████████| 1/1 [00:00<00:00, 90.79passo/s]\n",
      "Aplicando ajustes: 100%|██████████| 1/1 [00:00<00:00, 90.94passo/s]\n",
      "Aplicando ajustes: 100%|██████████| 1/1 [00:00<00:00, 90.87passo/s]\n",
      "Aplicando ajustes: 100%|██████████| 1/1 [00:00<00:00, 66.60passo/s]\n",
      "Aplicando ajustes: 100%|██████████| 1/1 [00:00<00:00, 66.64passo/s]\n",
      "Aplicando ajustes: 100%|██████████| 1/1 [00:00<00:00, 86.66passo/s]\n",
      "Aplicando ajustes: 100%|██████████| 1/1 [00:00<00:00, 94.39passo/s]\n",
      "Aplicando ajustes: 100%|██████████| 1/1 [00:00<00:00, 90.90passo/s]\n",
      "Aplicando ajustes: 100%|██████████| 1/1 [00:00<00:00, 83.33passo/s]\n",
      "Aplicando ajustes: 100%|██████████| 1/1 [00:00<00:00, 71.40passo/s]\n",
      "Aplicando ajustes: 100%|██████████| 1/1 [00:00<00:00, 90.89passo/s]\n",
      "Aplicando ajustes: 100%|██████████| 1/1 [00:00<00:00, 90.43passo/s]\n",
      "Aplicando ajustes: 100%|██████████| 1/1 [00:00<00:00, 99.54passo/s]\n",
      "Aplicando ajustes: 100%|██████████| 1/1 [00:00<00:00, 83.33passo/s]\n",
      "Aplicando ajustes: 100%|██████████| 1/1 [00:00<00:00, 83.21passo/s]\n",
      "Aplicando ajustes: 100%|██████████| 1/1 [00:00<00:00, 83.12passo/s]\n",
      "Aplicando ajustes: 100%|██████████| 1/1 [00:00<00:00, 90.71passo/s]\n",
      "Aplicando ajustes: 100%|██████████| 1/1 [00:00<00:00, 66.63passo/s]\n",
      "Aplicando ajustes: 100%|██████████| 1/1 [00:00<00:00, 98.72passo/s]\n",
      "Aplicando ajustes: 100%|██████████| 1/1 [00:00<00:00, 90.89passo/s]\n",
      "Aplicando ajustes: 100%|██████████| 1/1 [00:00<00:00, 100.39passo/s]\n",
      "Aplicando ajustes: 100%|██████████| 1/1 [00:00<00:00, 83.36passo/s]\n"
     ]
    },
    {
     "name": "stdout",
     "output_type": "stream",
     "text": [
      "CLAHE desativado.\n"
     ]
    },
    {
     "name": "stderr",
     "output_type": "stream",
     "text": [
      "Aplicando ajustes: 100%|██████████| 1/1 [00:00<00:00, 99.74passo/s]\n"
     ]
    },
    {
     "name": "stdout",
     "output_type": "stream",
     "text": [
      "CLAHE ativado.\n"
     ]
    },
    {
     "name": "stderr",
     "output_type": "stream",
     "text": [
      "Aplicando ajustes: 100%|██████████| 1/1 [00:00<00:00, 76.95passo/s]\n"
     ]
    },
    {
     "name": "stdout",
     "output_type": "stream",
     "text": [
      "CLAHE desativado.\n"
     ]
    },
    {
     "name": "stderr",
     "output_type": "stream",
     "text": [
      "Aplicando ajustes: 100%|██████████| 1/1 [00:00<00:00, 99.28passo/s]\n"
     ]
    },
    {
     "name": "stdout",
     "output_type": "stream",
     "text": [
      "CLAHE ativado.\n"
     ]
    },
    {
     "name": "stderr",
     "output_type": "stream",
     "text": [
      "Aplicando ajustes: 100%|██████████| 1/1 [00:00<00:00, 86.50passo/s]\n",
      "Aplicando ajustes: 100%|██████████| 1/1 [00:00<00:00, 79.85passo/s]\n",
      "Aplicando ajustes: 100%|██████████| 1/1 [00:00<00:00, 94.87passo/s]\n",
      "Aplicando ajustes: 100%|██████████| 1/1 [00:00<00:00, 95.08passo/s]\n",
      "Aplicando ajustes: 100%|██████████| 1/1 [00:00<00:00, 86.58passo/s]\n",
      "Aplicando ajustes: 100%|██████████| 1/1 [00:00<00:00, 76.92passo/s]\n",
      "Aplicando ajustes: 100%|██████████| 1/1 [00:00<00:00, 71.39passo/s]\n",
      "Aplicando ajustes: 100%|██████████| 1/1 [00:00<00:00, 90.93passo/s]\n",
      "Aplicando ajustes: 100%|██████████| 1/1 [00:00<00:00, 99.99passo/s]\n",
      "Aplicando ajustes: 100%|██████████| 1/1 [00:00<00:00, 90.66passo/s]\n",
      "Aplicando ajustes: 100%|██████████| 1/1 [00:00<00:00, 95.10passo/s]\n",
      "Aplicando ajustes: 100%|██████████| 1/1 [00:00<00:00, 79.83passo/s]\n",
      "Aplicando ajustes: 100%|██████████| 1/1 [00:00<00:00, 90.95passo/s]\n",
      "Aplicando ajustes: 100%|██████████| 1/1 [00:00<00:00, 79.81passo/s]\n",
      "Aplicando ajustes: 100%|██████████| 1/1 [00:00<00:00, 83.12passo/s]\n",
      "Aplicando ajustes: 100%|██████████| 1/1 [00:00<00:00, 105.13passo/s]\n",
      "Aplicando ajustes: 100%|██████████| 1/1 [00:00<00:00, 99.96passo/s]\n",
      "Aplicando ajustes: 100%|██████████| 1/1 [00:00<00:00, 83.31passo/s]\n",
      "Aplicando ajustes: 100%|██████████| 1/1 [00:00<00:00, 90.88passo/s]\n",
      "Aplicando ajustes: 100%|██████████| 1/1 [00:00<00:00, 83.04passo/s]\n",
      "Aplicando ajustes: 100%|██████████| 1/1 [00:00<00:00, 74.04passo/s]\n",
      "Aplicando ajustes: 100%|██████████| 1/1 [00:00<00:00, 111.07passo/s]\n",
      "Aplicando ajustes: 100%|██████████| 1/1 [00:00<00:00, 90.91passo/s]\n"
     ]
    },
    {
     "name": "stdout",
     "output_type": "stream",
     "text": [
      "CLAHE desativado.\n"
     ]
    },
    {
     "name": "stderr",
     "output_type": "stream",
     "text": [
      "Aplicando ajustes: 100%|██████████| 1/1 [00:00<00:00, 125.08passo/s]\n"
     ]
    },
    {
     "name": "stdout",
     "output_type": "stream",
     "text": [
      "CLAHE ativado.\n"
     ]
    },
    {
     "name": "stderr",
     "output_type": "stream",
     "text": [
      "Aplicando ajustes: 100%|██████████| 1/1 [00:00<00:00, 90.90passo/s]\n"
     ]
    },
    {
     "name": "stdout",
     "output_type": "stream",
     "text": [
      "CLAHE desativado.\n"
     ]
    },
    {
     "name": "stderr",
     "output_type": "stream",
     "text": [
      "Aplicando ajustes: 100%|██████████| 1/1 [00:00<00:00, 143.66passo/s]\n"
     ]
    },
    {
     "name": "stdout",
     "output_type": "stream",
     "text": [
      "CLAHE ativado.\n"
     ]
    },
    {
     "name": "stderr",
     "output_type": "stream",
     "text": [
      "Aplicando ajustes: 100%|██████████| 1/1 [00:00<00:00, 110.92passo/s]\n"
     ]
    },
    {
     "name": "stdout",
     "output_type": "stream",
     "text": [
      "CLAHE desativado.\n"
     ]
    },
    {
     "name": "stderr",
     "output_type": "stream",
     "text": [
      "Aplicando ajustes: 100%|██████████| 1/1 [00:00<00:00, 142.80passo/s]\n"
     ]
    },
    {
     "name": "stdout",
     "output_type": "stream",
     "text": [
      "CLAHE ativado.\n"
     ]
    },
    {
     "name": "stderr",
     "output_type": "stream",
     "text": [
      "Aplicando ajustes: 100%|██████████| 1/1 [00:00<00:00, 90.90passo/s]\n"
     ]
    },
    {
     "name": "stdout",
     "output_type": "stream",
     "text": [
      "CLAHE desativado.\n"
     ]
    },
    {
     "name": "stderr",
     "output_type": "stream",
     "text": [
      "Aplicando ajustes: 100%|██████████| 1/1 [00:00<00:00, 133.09passo/s]\n",
      "Aplicando ajustes: 100%|██████████| 1/1 [00:00<00:00, 124.97passo/s]\n",
      "Aplicando ajustes: 100%|██████████| 1/1 [00:00<00:00, 99.98passo/s]\n",
      "Aplicando ajustes: 100%|██████████| 1/1 [00:00<00:00, 124.94passo/s]\n",
      "Aplicando ajustes: 100%|██████████| 1/1 [00:00<00:00, 124.92passo/s]\n",
      "Aplicando ajustes: 100%|██████████| 1/1 [00:00<00:00, 142.65passo/s]\n",
      "Aplicando ajustes: 100%|██████████| 1/1 [00:00<00:00, 117.21passo/s]\n",
      "Aplicando ajustes: 100%|██████████| 1/1 [00:00<00:00, 117.45passo/s]\n"
     ]
    },
    {
     "name": "stdout",
     "output_type": "stream",
     "text": [
      "CLAHE ativado.\n"
     ]
    },
    {
     "name": "stderr",
     "output_type": "stream",
     "text": [
      "Aplicando ajustes: 100%|██████████| 1/1 [00:00<00:00, 83.35passo/s]\n",
      "Aplicando ajustes: 100%|██████████| 1/1 [00:00<00:00, 64.39passo/s]\n",
      "Aplicando ajustes: 100%|██████████| 1/1 [00:00<00:00, 71.41passo/s]\n",
      "Aplicando ajustes: 100%|██████████| 1/1 [00:00<00:00, 83.28passo/s]\n",
      "Aplicando ajustes: 100%|██████████| 1/1 [00:00<00:00, 71.37passo/s]\n",
      "Aplicando ajustes: 100%|██████████| 1/1 [00:00<00:00, 83.35passo/s]\n",
      "Aplicando ajustes: 100%|██████████| 1/1 [00:00<00:00, 71.37passo/s]\n",
      "Aplicando ajustes: 100%|██████████| 1/1 [00:00<00:00, 71.39passo/s]\n",
      "Aplicando ajustes: 100%|██████████| 1/1 [00:00<00:00, 90.57passo/s]\n",
      "Aplicando ajustes: 100%|██████████| 1/1 [00:00<00:00, 90.56passo/s]\n",
      "Aplicando ajustes: 100%|██████████| 1/1 [00:00<00:00, 100.09passo/s]\n"
     ]
    },
    {
     "name": "stdout",
     "output_type": "stream",
     "text": [
      "🔄 Brilho e contraste resetados para os valores padrão.\n"
     ]
    },
    {
     "name": "stderr",
     "output_type": "stream",
     "text": [
      "Aplicando ajustes: 100%|██████████| 1/1 [00:00<00:00, 94.99passo/s]\n",
      "Aplicando ajustes: 100%|██████████| 1/1 [00:00<00:00, 95.12passo/s]\n",
      "Aplicando ajustes: 100%|██████████| 1/1 [00:00<00:00, 86.93passo/s]\n",
      "Aplicando ajustes: 100%|██████████| 1/1 [00:00<00:00, 83.13passo/s]\n",
      "Aplicando ajustes: 100%|██████████| 1/1 [00:00<00:00, 91.02passo/s]\n",
      "Aplicando ajustes: 100%|██████████| 1/1 [00:00<00:00, 90.88passo/s]\n",
      "Aplicando ajustes: 100%|██████████| 1/1 [00:00<00:00, 111.11passo/s]\n",
      "Aplicando ajustes: 100%|██████████| 1/1 [00:00<00:00, 100.00passo/s]\n",
      "Aplicando ajustes: 100%|██████████| 1/1 [00:00<00:00, 83.27passo/s]\n",
      "Aplicando ajustes: 100%|██████████| 1/1 [00:00<00:00, 83.30passo/s]\n",
      "Aplicando ajustes: 100%|██████████| 1/1 [00:00<00:00, 90.71passo/s]\n",
      "Aplicando ajustes: 100%|██████████| 1/1 [00:00<00:00, 83.05passo/s]\n"
     ]
    },
    {
     "name": "stdout",
     "output_type": "stream",
     "text": [
      "✅ Imagem salva em: C:/Users/Victor Macedo/Desktop/sdsd.jpg\n"
     ]
    }
   ],
   "execution_count": 2
  }
 ],
 "metadata": {
  "kernelspec": {
   "display_name": "Python 3",
   "language": "python",
   "name": "python3"
  },
  "language_info": {
   "codemirror_mode": {
    "name": "ipython",
    "version": 2
   },
   "file_extension": ".py",
   "mimetype": "text/x-python",
   "name": "python",
   "nbconvert_exporter": "python",
   "pygments_lexer": "ipython2",
   "version": "2.7.6"
  }
 },
 "nbformat": 4,
 "nbformat_minor": 5
}
